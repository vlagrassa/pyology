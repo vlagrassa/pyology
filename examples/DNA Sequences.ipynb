{
 "cells": [
  {
   "cell_type": "markdown",
   "id": "4253b7bd",
   "metadata": {},
   "source": [
    "# DNA Sequences\n",
    "\n",
    "In this notebook, I explore the `Seq` class for representing DNA sequences."
   ]
  },
  {
   "cell_type": "code",
   "execution_count": 1,
   "id": "875e65fb",
   "metadata": {},
   "outputs": [],
   "source": [
    "%load_ext autoreload\n",
    "%autoreload 2\n",
    "\n",
    "import set_dir"
   ]
  },
  {
   "cell_type": "code",
   "execution_count": 2,
   "id": "1d969270",
   "metadata": {},
   "outputs": [],
   "source": [
    "from Sequence import Seq"
   ]
  },
  {
   "cell_type": "markdown",
   "id": "8997240f",
   "metadata": {},
   "source": [
    "## Basic Functionality"
   ]
  },
  {
   "cell_type": "markdown",
   "id": "38794938",
   "metadata": {},
   "source": [
    "Defining a sequence:"
   ]
  },
  {
   "cell_type": "code",
   "execution_count": 3,
   "id": "818dd2f4",
   "metadata": {},
   "outputs": [
    {
     "name": "stdout",
     "output_type": "stream",
     "text": [
      "ACGT\n",
      "<ACGT>\n",
      "4\n"
     ]
    }
   ],
   "source": [
    "s1 = Seq('ACGT')\n",
    "print(s1)\n",
    "print(repr(s1))\n",
    "print(len(s1))"
   ]
  },
  {
   "cell_type": "markdown",
   "id": "be1d23d7",
   "metadata": {},
   "source": [
    "Comparisons:"
   ]
  },
  {
   "cell_type": "code",
   "execution_count": 4,
   "id": "909d547c",
   "metadata": {},
   "outputs": [
    {
     "name": "stdout",
     "output_type": "stream",
     "text": [
      "False\n",
      "True\n",
      "True\n"
     ]
    }
   ],
   "source": [
    "s2 = Seq('AAAC')\n",
    "print(s1 == s2)\n",
    "print(s1 != s2)\n",
    "print(s1  > s2)"
   ]
  },
  {
   "cell_type": "markdown",
   "id": "6c1b5c58",
   "metadata": {},
   "source": [
    "Concatenating sequences:"
   ]
  },
  {
   "cell_type": "code",
   "execution_count": 5,
   "id": "2bc24cda",
   "metadata": {},
   "outputs": [
    {
     "name": "stdout",
     "output_type": "stream",
     "text": [
      "Concatenation\n",
      "AAA + GGG = AAAGGG\n",
      "AAACCC\n",
      "CCCAAA\n",
      "AAAGGGTTT\n",
      "AAAGGGCCCTTT\n",
      "\n"
     ]
    }
   ],
   "source": [
    "# Concat two sequences\n",
    "print(\"Concatenation\")\n",
    "s1 = Seq(\"AAA\")\n",
    "s2 = Seq(\"GGG\")\n",
    "s3 = s1 + s2\n",
    "print(f\"{s1} + {s2} = {s3}\")\n",
    "\n",
    "# Concat sequence with string\n",
    "print(s1 + \"CCC\")\n",
    "print(\"CCC\" + s1)\n",
    "\n",
    "# Concat multiple sequences\n",
    "s4 = Seq(\"TTT\")\n",
    "print(Seq.concat(s1, s2, s4))\n",
    "print(Seq.concat( ( s for s in [s1, s2, \"CCC\", s4] ) ))\n",
    "print(\"\")"
   ]
  },
  {
   "cell_type": "markdown",
   "id": "44f14094",
   "metadata": {},
   "source": [
    "Repeating a sequence:"
   ]
  },
  {
   "cell_type": "code",
   "execution_count": 6,
   "id": "649cc2b9",
   "metadata": {},
   "outputs": [
    {
     "name": "stdout",
     "output_type": "stream",
     "text": [
      "Repetition\n",
      "ACACACACAC\n",
      "\n"
     ]
    }
   ],
   "source": [
    "print(\"Repetition\")\n",
    "print(Seq(\"AC\") * 5)\n",
    "print(\"\")"
   ]
  },
  {
   "cell_type": "markdown",
   "id": "109aa608",
   "metadata": {},
   "source": [
    "Searching for subsequences:"
   ]
  },
  {
   "cell_type": "code",
   "execution_count": 7,
   "id": "afeb033a",
   "metadata": {},
   "outputs": [
    {
     "name": "stdout",
     "output_type": "stream",
     "text": [
      "Subsequence\n",
      "True\n",
      "False\n",
      "True\n",
      "\n"
     ]
    }
   ],
   "source": [
    "# Checking for subsequence\n",
    "print(\"Subsequence\")\n",
    "print(Seq(\"AA\") in Seq(\"CAAC\"))\n",
    "print(Seq(\"TG\") in Seq(\"CAAC\"))\n",
    "print(\"AA\" in Seq(\"AAAA\"))\n",
    "print(\"\")"
   ]
  },
  {
   "cell_type": "markdown",
   "id": "52b0ae38",
   "metadata": {},
   "source": [
    "Complements:"
   ]
  },
  {
   "cell_type": "code",
   "execution_count": 8,
   "id": "4a692d1b",
   "metadata": {},
   "outputs": [
    {
     "name": "stdout",
     "output_type": "stream",
     "text": [
      "AAA\n",
      "TTT\n",
      "Modulus:\n",
      "True\n",
      "\n",
      "False\n",
      "False\n",
      "False\n"
     ]
    }
   ],
   "source": [
    "print(s1)\n",
    "print(~s1)\n",
    "\n",
    "# Checking modulus (sequence is otw own complement)\n",
    "print(\"Modulus:\")\n",
    "print(Seq(\"ACGT\") % Seq(\"ACGT\"))\n",
    "print(\"\")\n",
    "\n",
    "print(s1 % s1)\n",
    "print(s4 % s4)\n",
    "print(s4 % \"AGCT\")"
   ]
  },
  {
   "cell_type": "markdown",
   "id": "74e6797b",
   "metadata": {},
   "source": [
    "## Sequence Matching\n",
    "\n",
    "I have defined the logical operators `&`, `|`, and `^`, as well as `-`, to perform pairwise operations on two sequences.\n",
    "\n",
    "Much of the interesting nature of these operators comes from the extended use of the letters in the FASTA format, i.e. the letters which represent that more than one base is possible.\n",
    "\n",
    "- `and` returns the bases if they match, and a gap if they don't.  For example, `ACA & ATR` will be `A-A`.  The first pair matches, so they are kept; the second pair does not, so a gap is inserted; and in the third pair, `R` can represent `A` or `T/U`, so only `A` is kept.\n",
    "- `or` returns the most restrictive code that could represent both sequences.  For example, `A | T` will be `R`, since `R` can represent either `A` or `T/U`.\n",
    "- `xor` is similar to `and`.  If the bases match, they are kept, as in `and`; if not, a gap is inserted.  For example, `ACA ^ ATR` will be `A--`, since `A` and `R` are not equal.\n",
    "- `sub` removes the ability for the first sequence to represent the second.  For example, if `seq1` is `N` and `seq2` is `A`, then `seq1 - seq2` will be `B`, which can represent `C`, `G`, or `T/U`, but not `A`."
   ]
  },
  {
   "cell_type": "markdown",
   "id": "e111309f",
   "metadata": {},
   "source": [
    "If a sequence does not already contain extended bases, `or` is the only operation that will introduce them."
   ]
  },
  {
   "cell_type": "code",
   "execution_count": 9,
   "id": "2ddc6fb3",
   "metadata": {},
   "outputs": [
    {
     "name": "stdout",
     "output_type": "stream",
     "text": [
      "A-G--A\n",
      "A-GCT-\n",
      "ARGCTR\n",
      "\n",
      "---AAG-TA\n",
      "-AAA-AA\n",
      "A-A-A-A\n",
      "A-A-A-A\n",
      "A-A-A-A\n",
      "GATT-C-\n"
     ]
    }
   ],
   "source": [
    "s1 = Seq(\"AAG-TA\")\n",
    "s2 = Seq(\"AGGC-R\")\n",
    "\n",
    "print(s1 & s2)\n",
    "print(s1 ^ s2)\n",
    "print(s1 | s2)\n",
    "print(\"\")\n",
    "\n",
    "print( s1 >> 3 )\n",
    "\n",
    "\n",
    "s1 = Seq(\"AAAAAAA\")\n",
    "s2 = Seq(\"ACGTRB-\")\n",
    "print(s1 - s2)\n",
    "\n",
    "print( s1 & \"ACACACA\" )\n",
    "print( \"ACACACA\" & s1 )\n",
    "s1 &= \"ACACACA\"\n",
    "print(s1)\n",
    "\n",
    "print (\"GATTACA\" - s1)"
   ]
  },
  {
   "cell_type": "markdown",
   "id": "dafad16d",
   "metadata": {},
   "source": [
    "## Transforming Sequences\n",
    "\n",
    "### RNA"
   ]
  },
  {
   "cell_type": "code",
   "execution_count": 10,
   "id": "e584231f",
   "metadata": {},
   "outputs": [
    {
     "name": "stdout",
     "output_type": "stream",
     "text": [
      "Class method, Seq input:   ACGU\n",
      "Class method, Str input:   ACGU\n",
      "Object method:             ACGU\n"
     ]
    }
   ],
   "source": [
    "from Sequence import Seq\n",
    "\n",
    "print(f\"Class method, Seq input:   {Seq.dna_to_rna(Seq('ACGT'))}\")\n",
    "print(f\"Class method, Str input:   {Seq.dna_to_rna(    'ACGT' )}\")\n",
    "print(f\"Object method:             {Seq('ACGT').to_RNA()}\"       )"
   ]
  },
  {
   "cell_type": "markdown",
   "id": "361e1661",
   "metadata": {},
   "source": [
    "### Amino Acids"
   ]
  },
  {
   "cell_type": "code",
   "execution_count": 11,
   "id": "ca153b53",
   "metadata": {},
   "outputs": [
    {
     "name": "stdout",
     "output_type": "stream",
     "text": [
      "KG\n",
      "KG\n"
     ]
    }
   ],
   "source": [
    "from Sequence import Seq\n",
    "\n",
    "s1 = Seq(\"AAAGGG\")\n",
    "    \n",
    "print(Seq.translate(s1))\n",
    "print(s1.translate())"
   ]
  },
  {
   "cell_type": "markdown",
   "id": "87be690c",
   "metadata": {},
   "source": [
    "# Benchmarking"
   ]
  },
  {
   "cell_type": "markdown",
   "id": "d6023407",
   "metadata": {},
   "source": [
    "In the following sections, I benchmark how the array implementation and string implementation compare to one another on a few basic operations.\n",
    "\n",
    "In the cell below, I define a generalized function to use the `timeit` module to time a simple function."
   ]
  },
  {
   "cell_type": "code",
   "execution_count": 38,
   "id": "fd7c644a",
   "metadata": {},
   "outputs": [],
   "source": [
    "from random import randint\n",
    "import timeit\n",
    "\n",
    "def time_seq_func(init_func, test_func, num_trials=10000, length=6, closure=False):\n",
    "\n",
    "    # Print the header\n",
    "    print(\"| Seq Len | Total Time (s) |  Avg Time (s)  |\")\n",
    "    print(\"|---------|----------------|----------------|\")\n",
    "\n",
    "    # Test increasing sequence lengths\n",
    "    for n in [ 10 ** n for n in range(1, length)]:\n",
    "\n",
    "        # Create a random sequence of length 10^n\n",
    "        seq = init_func()\n",
    "        for i in range(n):\n",
    "            seq += d[randint(0,3)]\n",
    "        \n",
    "        if closure:\n",
    "            f = test_func(seq)\n",
    "        else:\n",
    "            f = test_func(\"seq\")\n",
    "\n",
    "        # Create the function to test by providing the local variable\n",
    "        # name of the sequence, then run the tests\n",
    "        t = timeit.timeit(\n",
    "            f, number=num_trials, globals=locals()\n",
    "        )\n",
    "\n",
    "        # Print results\n",
    "        print(f\"| {n:>7} | {t:.6f} | {t/num_trials:.6f} |\")"
   ]
  },
  {
   "cell_type": "markdown",
   "id": "001d298e",
   "metadata": {},
   "source": [
    "## Complement"
   ]
  },
  {
   "cell_type": "markdown",
   "id": "ef5e31be",
   "metadata": {},
   "source": [
    "Here, I time how long it takes to take the complement of random sequences of increasing length, for the array implementation and the string implementation."
   ]
  },
  {
   "cell_type": "code",
   "execution_count": 47,
   "id": "dd979c39",
   "metadata": {},
   "outputs": [
    {
     "name": "stdout",
     "output_type": "stream",
     "text": [
      "| Seq Len | Total Time (s) |  Avg Time (s)  |\n",
      "|---------|----------------|----------------|\n",
      "|      10 | 0.092946 | 0.000009 |\n",
      "|     100 | 0.379364 | 0.000038 |\n",
      "|    1000 | 3.672137 | 0.000367 |\n",
      "|   10000 | 30.971811 | 0.003097 |\n",
      "| Seq Len | Total Time (s) |  Avg Time (s)  |\n",
      "|---------|----------------|----------------|\n",
      "|      10 | 0.013738 | 0.000001 |\n",
      "|     100 | 0.128964 | 0.000013 |\n",
      "|    1000 | 0.936815 | 0.000094 |\n",
      "|   10000 | 9.050150 | 0.000905 |\n"
     ]
    }
   ],
   "source": [
    "from Sequence import Seq\n",
    "from Sequence._sequenceStr import SeqStr\n",
    "\n",
    "time_seq_func(Seq,    lambda name: f\"~{name}\", length=5)\n",
    "time_seq_func(SeqStr, lambda name: f\"~{name}\", length=5)"
   ]
  },
  {
   "cell_type": "markdown",
   "id": "9fad75e6",
   "metadata": {},
   "source": [
    "## Repetition"
   ]
  },
  {
   "cell_type": "markdown",
   "id": "73184751",
   "metadata": {},
   "source": [
    "In the following cells, I test the repetition operator `*`."
   ]
  },
  {
   "cell_type": "code",
   "execution_count": 39,
   "id": "1a279ba5",
   "metadata": {},
   "outputs": [
    {
     "name": "stdout",
     "output_type": "stream",
     "text": [
      "| Seq Len | Total Time (s) |  Avg Time (s)  |\n",
      "|---------|----------------|----------------|\n",
      "|      10 | 0.032111 | 0.000003 |\n",
      "|     100 | 0.038990 | 0.000004 |\n",
      "|    1000 | 0.103301 | 0.000010 |\n",
      "|   10000 | 0.720746 | 0.000072 |\n"
     ]
    }
   ],
   "source": [
    "time_seq_func(Seq,    lambda name: f\"{name} * 10\", length=5)"
   ]
  },
  {
   "cell_type": "code",
   "execution_count": 40,
   "id": "0f2e51fd",
   "metadata": {},
   "outputs": [
    {
     "name": "stdout",
     "output_type": "stream",
     "text": [
      "| Seq Len | Total Time (s) |  Avg Time (s)  |\n",
      "|---------|----------------|----------------|\n",
      "|      10 | 0.086479 | 0.000009 |\n",
      "|     100 | 0.587518 | 0.000059 |\n",
      "|    1000 | 5.564199 | 0.000556 |\n",
      "|   10000 | 53.978736 | 0.005398 |\n"
     ]
    }
   ],
   "source": [
    "time_seq_func(Seq,    lambda name: f\"{name} * 10\", length=5)"
   ]
  },
  {
   "cell_type": "code",
   "execution_count": 45,
   "id": "0d2db173",
   "metadata": {},
   "outputs": [
    {
     "name": "stdout",
     "output_type": "stream",
     "text": [
      "| Seq Len | Total Time (s) |  Avg Time (s)  |\n",
      "|---------|----------------|----------------|\n",
      "|      10 | 0.007559 | 0.000001 |\n",
      "|     100 | 0.005302 | 0.000001 |\n",
      "|    1000 | 0.010423 | 0.000001 |\n",
      "|   10000 | 0.043862 | 0.000004 |\n"
     ]
    }
   ],
   "source": [
    "from genetics.sequenceStr import SeqStr\n",
    "time_seq_func(SeqStr, lambda name: f\"{name} * 10\", length=5)"
   ]
  },
  {
   "cell_type": "markdown",
   "id": "af85935f",
   "metadata": {},
   "source": [
    "Timing the repeat operator `*`.\n",
    "\n",
    "The left two columns show a native array implementation.\n",
    "\n",
    "The middle two show an array implementation that converts to a `str` to use the native string implementation of the operator.\n",
    "\n",
    "The right two show the string implementation.\n",
    "\n",
    "| Seq Len | Total Time |  Avg Time  | Total Time | Avg Time | Total Time | Avg Time |\n",
    "| :-: | :-: | :-: | :-: | :-: | :-: | :-: |\n",
    "|     10 | 0.032111 | 0.000003 |  0.086479 | 0.000009 | 0.007559 | 0.000001 |\n",
    "|    100 | 0.038990 | 0.000004 |  0.587518 | 0.000059 | 0.005302 | 0.000001 |\n",
    "|   1000 | 0.103301 | 0.000010 |  5.564199 | 0.000556 | 0.010423 | 0.000001 |\n",
    "|  10000 | 0.720746 | 0.000072 | 53.978736 | 0.005398 | 0.043862 | 0.000004 |\n",
    "\n",
    "All times are given in seconds.\n",
    "\n",
    "In this case, converting the array to a string has by far the worst performance.  The array implementation is fast, but nowhere near the string method."
   ]
  },
  {
   "cell_type": "markdown",
   "id": "a0ebf93d",
   "metadata": {},
   "source": [
    "## Concatenation"
   ]
  },
  {
   "cell_type": "markdown",
   "id": "047c9169",
   "metadata": {},
   "source": [
    "### Basic Concatenation\n",
    "\n",
    "For concatenation, I first test the basic `+` operator for a sequence and itself."
   ]
  },
  {
   "cell_type": "code",
   "execution_count": 113,
   "id": "8445699b",
   "metadata": {},
   "outputs": [
    {
     "name": "stdout",
     "output_type": "stream",
     "text": [
      "| Seq Len | Total Time (s) |  Avg Time (s)  |\n",
      "|---------|----------------|----------------|\n",
      "|      10 | 0.014539 | 0.000001 |\n",
      "|     100 | 0.015517 | 0.000002 |\n",
      "|    1000 | 0.019539 | 0.000002 |\n",
      "|   10000 | 0.040925 | 0.000004 |\n",
      "|  100000 | 0.201383 | 0.000020 |\n",
      "| Seq Len | Total Time (s) |  Avg Time (s)  |\n",
      "|---------|----------------|----------------|\n",
      "|      10 | 0.008414 | 0.000001 |\n",
      "|     100 | 0.008804 | 0.000001 |\n",
      "|    1000 | 0.010805 | 0.000001 |\n",
      "|   10000 | 0.017672 | 0.000002 |\n",
      "|  100000 | 0.123884 | 0.000012 |\n"
     ]
    }
   ],
   "source": [
    "time_seq_func(Seq,    lambda name: f\"{name} + {name}\", length=6)\n",
    "time_seq_func(SeqStr, lambda name: f\"{name} + {name}\", length=6)"
   ]
  },
  {
   "cell_type": "markdown",
   "id": "648e6e1b",
   "metadata": {},
   "source": [
    "Based on this data, the array method appears to take about twice as much time to compute."
   ]
  },
  {
   "cell_type": "markdown",
   "id": "ccd314a4",
   "metadata": {},
   "source": [
    "### In-Place Concatenation\n",
    "\n",
    "Here, I test the in-place concatenation operator `+=`, which modifies an object directly."
   ]
  },
  {
   "cell_type": "code",
   "execution_count": 118,
   "id": "51f38a6a",
   "metadata": {},
   "outputs": [
    {
     "name": "stdout",
     "output_type": "stream",
     "text": [
      "|      10 | 0.000997 | 0.000997 |\n",
      "|     100 | 0.000000 | 0.000000 |\n",
      "|    1000 | 0.000997 | 0.000997 |\n",
      "|   10000 | 0.010981 | 0.010981 |\n",
      "|  100000 | 0.119287 | 0.119287 |\n",
      "|      10 | 0.000000 | 0.000000 |\n",
      "|     100 | 0.000000 | 0.000000 |\n",
      "|    1000 | 0.001994 | 0.001994 |\n",
      "|   10000 | 0.022235 | 0.022235 |\n",
      "|  100000 | 0.286513 | 0.286513 |\n"
     ]
    }
   ],
   "source": [
    "# Test increasing sequence lengths\n",
    "for n in [ 10 ** n for n in range(1, 6)]:\n",
    "\n",
    "    # Create a random sequence of length 10^n\n",
    "    s = time()\n",
    "    seq = Seq()\n",
    "    for i in range(n):\n",
    "        seq += d[randint(0,3)]\n",
    "    t = time()\n",
    "\n",
    "    # Print results\n",
    "    print(f\"| {n:>7} | {t-s:.6f} | {t-s:.6f} |\")\n",
    "\n",
    "# Test increasing sequence lengths\n",
    "for n in [ 10 ** n for n in range(1, 6)]:\n",
    "\n",
    "    # Create a random sequence of length 10^n\n",
    "    s = time()\n",
    "    seq = SeqStr()\n",
    "    for i in range(n):\n",
    "        seq += d[randint(0,3)]\n",
    "    t = time()\n",
    "\n",
    "    # Print results\n",
    "    print(f\"| {n:>7} | {t-s:.6f} | {t-s:.6f} |\")"
   ]
  },
  {
   "cell_type": "markdown",
   "id": "7200bd96",
   "metadata": {},
   "source": [
    "In this case, the array method is twice as fast as the string method."
   ]
  },
  {
   "cell_type": "markdown",
   "id": "babc643a",
   "metadata": {},
   "source": [
    "<!-- | Seq Len | Total Time (s) |  Avg Time (s)  |\n",
    "|---------|----------------|----------------|\n",
    "|      10 | 0.021190 | 0.000002 |\n",
    "|     100 | 0.149093 | 0.000015 |\n",
    "|    1000 | 1.888353 | 0.000189 |\n",
    "|   10000 | 15.995845 | 0.001600 |\n",
    "|  100000 | 145.837629 | 0.014584 | -->\n",
    "\n",
    "Left column is the array implementation, right column is the string implementation.\n",
    "\n",
    "| Seq Len | Total Time (s) | Total Time (s) |\n",
    "| --: | :-: | :-: |\n",
    "|      10 | 0.000997 | 0.000000 |\n",
    "|     100 | 0.000000 | 0.000000 |\n",
    "|    1000 | 0.000997 | 0.001994 |\n",
    "|   10000 | 0.010981 | 0.022235 |\n",
    "|  100000 | 0.119287 | 0.286513 |"
   ]
  },
  {
   "cell_type": "markdown",
   "id": "8a9d36be",
   "metadata": {},
   "source": [
    "## Writing to File\n",
    "\n",
    "Here, I test how long it takes to write both to a file."
   ]
  },
  {
   "cell_type": "code",
   "execution_count": 119,
   "id": "1760ec6a",
   "metadata": {},
   "outputs": [
    {
     "name": "stdout",
     "output_type": "stream",
     "text": [
      "0.052541255950927734\n",
      "0.014759302139282227\n"
     ]
    }
   ],
   "source": [
    "from genetics.sequence import Seq\n",
    "\n",
    "# from random import\n",
    "from time import time\n",
    "\n",
    "with open(\"output/test_file.txt\", \"w\") as f:\n",
    "    s = time()\n",
    "    for i in range(10000):\n",
    "        s1 = Seq(\"AAAA\")\n",
    "        s2 = Seq(\"CCCC\")\n",
    "\n",
    "        f.write(str(s1 + s2))\n",
    "        f.write(\"\\n\")\n",
    "\n",
    "t = time()\n",
    "print(t - s)\n",
    "\n",
    "with open(\"output/test_file.txt\", \"w\") as f:\n",
    "    s = time()\n",
    "    for i in range(10000):\n",
    "        s1 = \"AAAA\"\n",
    "        s2 = \"CCCC\"\n",
    "\n",
    "        f.write(s1 + s2)\n",
    "        f.write(\"\\n\")\n",
    "\n",
    "t = time()\n",
    "print(t - s)"
   ]
  },
  {
   "cell_type": "markdown",
   "id": "037183cc",
   "metadata": {},
   "source": [
    "The string method is significantly faster. I suspect this is because we have to convert from the byte representation in the array to a string in order to save; it might be possible to write a dedicated `write` function for the array implementation that operates faster."
   ]
  },
  {
   "cell_type": "markdown",
   "id": "701303bc",
   "metadata": {},
   "source": [
    "## Random Slicing\n",
    "\n",
    "Here, I test how long it takes to access a random slice of the sequence.  I randomly generate two indices, order them, and write that slice to a file."
   ]
  },
  {
   "cell_type": "code",
   "execution_count": 76,
   "id": "a9c41790",
   "metadata": {},
   "outputs": [
    {
     "name": "stdout",
     "output_type": "stream",
     "text": [
      "|      10 | 0.045677 | 0.045677 |\n",
      "|     100 | 0.076190 | 0.076190 |\n",
      "|    1000 | 0.118940 | 0.118940 |\n",
      "|   10000 | 0.429558 | 0.429558 |\n",
      "|  100000 | 3.187925 | 3.187925 |\n",
      "|      10 | 0.035199 | 0.035199 |\n",
      "|     100 | 0.057343 | 0.057343 |\n",
      "|    1000 | 0.086189 | 0.086189 |\n",
      "|   10000 | 0.399790 | 0.399790 |\n",
      "|  100000 | 2.983008 | 2.983008 |\n"
     ]
    }
   ],
   "source": [
    "from time import time\n",
    "\n",
    "# Test increasing sequence lengths\n",
    "for n in [ 10 ** n for n in range(1, 6)]:\n",
    "\n",
    "    # Create a random sequence of length 10^n\n",
    "    seq = Seq()\n",
    "    for i in range(n):\n",
    "        seq += d[randint(0,3)]\n",
    "\n",
    "    with open(\"output/test_file.txt\", \"w\") as f:\n",
    "        s = time()\n",
    "        for it in range(10000):\n",
    "            rand_1 = randint(0, len(seq))\n",
    "            rand_2 = randint(0, len(seq))\n",
    "            i, j = min(rand_1, rand_2), max(rand_1, rand_2)\n",
    "            f.write(str(seq[i:j]))\n",
    "            f.write(\"\\n\")\n",
    "    t = time()\n",
    "\n",
    "    # Print results\n",
    "    print(f\"| {n:>7} | {t-s:.6f} | {t-s:.6f} |\")\n",
    "\n",
    "# Test increasing sequence lengths\n",
    "for n in [ 10 ** n for n in range(1, 6)]:\n",
    "\n",
    "    # Create a random sequence of length 10^n\n",
    "    seq = SeqStr()\n",
    "    for i in range(n):\n",
    "        seq += d[randint(0,3)]\n",
    "\n",
    "    with open(\"output/test_file.txt\", \"w\") as f:\n",
    "        s = time()\n",
    "        for it in range(10000):\n",
    "            rand_1 = randint(0, len(seq))\n",
    "            rand_2 = randint(0, len(seq))\n",
    "            i, j = min(rand_1, rand_2), max(rand_1, rand_2)\n",
    "            f.write(str(seq[i:j]))\n",
    "            f.write(\"\\n\")\n",
    "    t = time()\n",
    "\n",
    "    # Print results\n",
    "    print(f\"| {n:>7} | {t-s:.6f} | {t-s:.6f} |\")"
   ]
  },
  {
   "cell_type": "markdown",
   "id": "6595abc1",
   "metadata": {},
   "source": [
    "Here, the two methods are comparable, with the array method only slightly slower than the string method (within ~0.2 seconds for 10,000 accesses of a sequence of length 100,000)."
   ]
  }
 ],
 "metadata": {
  "kernelspec": {
   "display_name": "Python 3 (ipykernel)",
   "language": "python",
   "name": "python3"
  },
  "language_info": {
   "codemirror_mode": {
    "name": "ipython",
    "version": 3
   },
   "file_extension": ".py",
   "mimetype": "text/x-python",
   "name": "python",
   "nbconvert_exporter": "python",
   "pygments_lexer": "ipython3",
   "version": "3.10.4"
  }
 },
 "nbformat": 4,
 "nbformat_minor": 5
}
