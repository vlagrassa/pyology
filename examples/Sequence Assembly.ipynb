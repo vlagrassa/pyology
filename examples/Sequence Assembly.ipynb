{
 "cells": [
  {
   "cell_type": "markdown",
   "id": "7165d0e4",
   "metadata": {},
   "source": [
    "# Sequence Assembly"
   ]
  },
  {
   "cell_type": "code",
   "execution_count": 1,
   "id": "6b161ad8",
   "metadata": {},
   "outputs": [],
   "source": [
    "%load_ext autoreload\n",
    "%autoreload 2\n",
    "\n",
    "import set_dir"
   ]
  },
  {
   "cell_type": "markdown",
   "id": "7fac6d88",
   "metadata": {},
   "source": [
    "## Sequence Alignment"
   ]
  },
  {
   "cell_type": "markdown",
   "id": "7c3babc1",
   "metadata": {},
   "source": [
    "Here, I demonstrate the basic sequence alignment function."
   ]
  },
  {
   "cell_type": "code",
   "execution_count": 2,
   "id": "39829cab",
   "metadata": {},
   "outputs": [],
   "source": [
    "from Sequence import Seq"
   ]
  },
  {
   "cell_type": "code",
   "execution_count": 3,
   "id": "d47c6fff",
   "metadata": {},
   "outputs": [
    {
     "name": "stdout",
     "output_type": "stream",
     "text": [
      "(0.0, [(<GCAT-GCT>, <G-ATTACA>), (<GCATG-CT>, <G-ATTACA>)])\n"
     ]
    }
   ],
   "source": [
    "s1 = Seq(\"GCATGCT\")\n",
    "s2 = Seq(\"GATTACA\")\n",
    "\n",
    "print( Seq.align(s1, s2) )"
   ]
  },
  {
   "cell_type": "markdown",
   "id": "5ba18b66",
   "metadata": {},
   "source": [
    "By XOR-ing the outputs of an alignment where gaps are encouraged over mismatches, we can combine the two sequences into one:"
   ]
  },
  {
   "cell_type": "code",
   "execution_count": 4,
   "id": "d4418dce",
   "metadata": {},
   "outputs": [
    {
     "name": "stdout",
     "output_type": "stream",
     "text": [
      "4.0 GCATGCT--- G-AT--TACA\n",
      "GCATGCTACA\n"
     ]
    }
   ],
   "source": [
    "score, (r1, r2) = Seq.align(s1, s2, gap_penalty=0, one_result=True)\n",
    "\n",
    "print(score, r1, r2)\n",
    "print(r1 ^ r2)"
   ]
  },
  {
   "cell_type": "markdown",
   "id": "0a059e96",
   "metadata": {},
   "source": [
    "## Sequence Assembly"
   ]
  },
  {
   "cell_type": "markdown",
   "id": "228fd665",
   "metadata": {},
   "source": [
    "In this section, I define a sequence assembly algorithm using the `Sequence` module."
   ]
  },
  {
   "cell_type": "code",
   "execution_count": 5,
   "id": "5490f3e8",
   "metadata": {},
   "outputs": [],
   "source": [
    "def pairs(arr, enumerate=False):\n",
    "    \"\"\"\n",
    "    Generate all pairs of elements from a given list.\n",
    "    \n",
    "    If enumerate is true, return elements with their indices in the list.\n",
    "    \"\"\"\n",
    "    for i in range(len(arr)):\n",
    "        for j in range(i+1, len(arr)):\n",
    "            if enumerate:\n",
    "                yield (i, arr[i]), (j, arr[j])\n",
    "            else:\n",
    "                yield arr[i], arr[j]"
   ]
  },
  {
   "cell_type": "code",
   "execution_count": 6,
   "id": "37fc11df",
   "metadata": {},
   "outputs": [],
   "source": [
    "def assemble_sequences(sequences, **kwargs):\n",
    "    \n",
    "    # Only use one result each round\n",
    "    kwargs[\"one_result\"]  = True\n",
    "    \n",
    "    # Set default values for alignments\n",
    "    kwargs[\"gap_penalty\"] = kwargs.get(\"gap_penalty\", -1)\n",
    "    kwargs[\"is_local\"]    = kwargs.get(\"is_local\",    True)\n",
    "    kwargs[\"whole_seqs\"]  = kwargs.get(\"whole_seqs\",  True)\n",
    "#     kwargs[\"score\"]       = kwargs.get(\"score\",      \"simple\")\n",
    "    \n",
    "    # Repeat until one sequence remains\n",
    "    while len(sequences) > 1:\n",
    "\n",
    "        # Initialize empty array for alignments\n",
    "        alignments = []\n",
    "\n",
    "        # Loop over each pair of sequences\n",
    "        for (i, s1), (j, s2) in pairs(sequences, enumerate=True):\n",
    "            \n",
    "            # Compute the score of the optimal alignment, along with one\n",
    "            # potential alignment that achieves that score\n",
    "            score, (s1, s2) = Seq.align( s1, s2, **kwargs )\n",
    "            \n",
    "            # Keep track of score and sequence values, as well as their\n",
    "            # indices in the original array\n",
    "            alignments.append(( score, s1, s2, i, j ))\n",
    "        \n",
    "        # Print all the alignments\n",
    "        print(f\"Remaining Sequences: {len(sequences)}.\")\n",
    "        for score, s1, s2, i, j in alignments:\n",
    "            print(f\"  - Score: {score}\")\n",
    "            print(f\"      {i} {s1}\")\n",
    "            print(f\"      {j} {s2}\")\n",
    "            print(\"\")\n",
    "        print(\"\")\n",
    "\n",
    "        # Get the best alignment, by maximum score\n",
    "        score, s1, s2, i, j = max( alignments )\n",
    "        \n",
    "        # Replace s1 and s2 with their alignment\n",
    "        sequences.pop(j)\n",
    "        sequences.pop(i)\n",
    "        sequences.append(s1 ^ s2)\n",
    "    \n",
    "    return sequences[0]"
   ]
  },
  {
   "cell_type": "code",
   "execution_count": 7,
   "id": "d305e38b",
   "metadata": {},
   "outputs": [
    {
     "name": "stdout",
     "output_type": "stream",
     "text": [
      "TTCCGGAGAGGGAGCCTGAG----------------\n",
      "-------------GCCTGAGAAATGGCTACCACATC\n",
      "\n",
      "TTCCGGAGAGGGAGCCTGAGAAATGGCTACCACATC\n",
      "\n",
      "Remaining Sequences: 2.\n",
      "  - Score: 7.0\n",
      "      0 TTCCGGAGAGGGAGCCTGAG----------------\n",
      "      1 -------------GCCTGAGAAATGGCTACCACATC\n",
      "\n",
      "\n",
      "TTCCGGAGAGGGAGCCTGAGAAATGGCTACCACATC\n"
     ]
    }
   ],
   "source": [
    "s1 = Seq(\"TTCCGGAGAGGGAGCCTGAG\")\n",
    "s2 = Seq(\"GCCTGAGAAATGGCTACCACATC\")\n",
    "# s1 = Seq(\"TTCCGGAGAGGGAGCCTGAG\")\n",
    "# s2 = Seq(\"GCCTGAGAAATGGCTACCACATC\")\n",
    "# s1 = Seq(\"AAACC\")\n",
    "# s2 = Seq(\"CCTTTTT\")\n",
    "# s1 = Seq(\"AACCCAAAA\")\n",
    "# s2 = Seq(\"CCC\")\n",
    "\n",
    "# score, results = Seq.align(s1, s2, is_local=True, whole_seqs=True)\n",
    "score, result = Seq.align(\n",
    "    s1, s2, one_result=True, is_local=True, whole_seqs=True,\n",
    "    score=(1, -10)\n",
    ")\n",
    "print(result[0])\n",
    "print(result[1])\n",
    "print(\"\")\n",
    "\n",
    "print(result[0] ^ result[1])\n",
    "print(\"\")\n",
    "\n",
    "print(assemble_sequences([s1, s2]))"
   ]
  },
  {
   "cell_type": "markdown",
   "id": "54b04207",
   "metadata": {},
   "source": [
    "My algorithm works as expected for short sequences:"
   ]
  },
  {
   "cell_type": "code",
   "execution_count": 8,
   "id": "1d53b095",
   "metadata": {},
   "outputs": [
    {
     "name": "stdout",
     "output_type": "stream",
     "text": [
      "Remaining Sequences: 3.\n",
      "  - Score: 2.0\n",
      "      0 ACCCT\n",
      "      1 AC---\n",
      "\n",
      "  - Score: 2.0\n",
      "      0 ACCCT\n",
      "      2 ---CT\n",
      "\n",
      "  - Score: 1.0\n",
      "      1 AC-\n",
      "      2 -CT\n",
      "\n",
      "\n",
      "Remaining Sequences: 2.\n",
      "  - Score: 2.0\n",
      "      0 ---CT\n",
      "      1 ACCCT\n",
      "\n",
      "\n"
     ]
    },
    {
     "data": {
      "text/plain": [
       "<ACCCT>"
      ]
     },
     "execution_count": 8,
     "metadata": {},
     "output_type": "execute_result"
    }
   ],
   "source": [
    "seqs = [\n",
    "    Seq(\"ACCCT\"),\n",
    "    Seq(\"AC\"   ),\n",
    "    Seq(   \"CT\")\n",
    "]\n",
    "assemble_sequences(seqs)"
   ]
  },
  {
   "cell_type": "markdown",
   "id": "53b053ec",
   "metadata": {},
   "source": [
    "For longer sequences, it comes close to the expected solution.  Here, we expect the first three sequences to be placed in that order, with overlap at their ends, and the fourth to be a subsequence of the larger sequence."
   ]
  },
  {
   "cell_type": "code",
   "execution_count": 9,
   "id": "183079b6",
   "metadata": {},
   "outputs": [
    {
     "name": "stdout",
     "output_type": "stream",
     "text": [
      "Remaining Sequences: 4.\n",
      "  - Score: 7.0\n",
      "      0 TTCCGGAGAGGGAGCCTGAG----------------\n",
      "      1 -------------GCCTGAGAAATGGCTACCACATC\n",
      "\n",
      "  - Score: 8.0\n",
      "      0 -----TTCC--GGAGAGGGAGCCTGAG\n",
      "      2 -CCACATCCACGGAGAGG---------\n",
      "\n",
      "  - Score: 8.0\n",
      "      0 TTCCGGAGAGGGAGCCTGAG\n",
      "      3 ---CGGAGAGG---------\n",
      "\n",
      "  - Score: 7.0\n",
      "      1 GCCTGAGAAATGGCTACCACATC----------\n",
      "      2 ----------------CCACATCCACGGAGAGG\n",
      "\n",
      "  - Score: 4.0\n",
      "      1 --GCCTGAGAAATGGCTACCACATC--\n",
      "      3 ----CGGAGAGG---------------\n",
      "\n",
      "  - Score: 8.0\n",
      "      2 CCACATCCACGGAGAGG\n",
      "      3 ---------CGGAGAGG\n",
      "\n",
      "\n",
      "Remaining Sequences: 3.\n",
      "  - Score: 7.0\n",
      "      0 GCCTGAGAAATGGCTACCACATC----------\n",
      "      1 ----------------CCACATCCACGGAGAGG\n",
      "\n",
      "  - Score: 7.0\n",
      "      0 -------------GCCTGAGAAATGGCTACCACATC\n",
      "      2 TTCCGGAGAGGGAGCCTGAG----------------\n",
      "\n",
      "  - Score: 8.0\n",
      "      1 -CCACATCCACGGAGAGG---------\n",
      "      2 -----TTCC--GGAGAGGGAGCCTGAG\n",
      "\n",
      "\n",
      "Remaining Sequences: 2.\n",
      "  - Score: 7.0\n",
      "      0 --------------------GCCTGAGAAATGGCTACCACATC\n",
      "      1 -CCAC-TCCACGGAGAGGGAGCCTGAG----------------\n",
      "\n",
      "\n",
      "Result:   -CCAC-TCCACGGAGAGGGAGCCTGAGAAATGGCTACCACATC\n",
      "Expected: TTCCGGAGAGGGAGCCTGAGAAATGGCTACCACATCCACGGAGAGG\n"
     ]
    }
   ],
   "source": [
    "seqs = [\n",
    "    Seq(\"TTCCGGAGAGGGAGCCTGAG\"),\n",
    "    Seq(\"GCCTGAGAAATGGCTACCACATC\"),\n",
    "    Seq(\"CCACATCCACGGAGAGG\"),\n",
    "    Seq(\"CGGAGAGG\"),\n",
    "]\n",
    "\n",
    "expected = \"TTCCGGAGAGGGAGCCTGAGAAATGGCTACCACATCCACGGAGAGG\"\n",
    "full_seq = assemble_sequences(seqs, is_local=True, score=(1, -10))\n",
    "\n",
    "print(f\"Result:   {full_seq}\")\n",
    "print(f\"Expected: {expected}\")"
   ]
  }
 ],
 "metadata": {
  "kernelspec": {
   "display_name": "Python 3 (ipykernel)",
   "language": "python",
   "name": "python3"
  },
  "language_info": {
   "codemirror_mode": {
    "name": "ipython",
    "version": 3
   },
   "file_extension": ".py",
   "mimetype": "text/x-python",
   "name": "python",
   "nbconvert_exporter": "python",
   "pygments_lexer": "ipython3",
   "version": "3.10.4"
  }
 },
 "nbformat": 4,
 "nbformat_minor": 5
}
