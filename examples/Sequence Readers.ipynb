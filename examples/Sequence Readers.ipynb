{
 "cells": [
  {
   "cell_type": "markdown",
   "id": "56d81afe",
   "metadata": {},
   "source": [
    "# Sequence Reader\n",
    "\n",
    "The `SeqReader` class reads a sequence from a FASTA-formatted file.\n",
    "\n",
    "More generally, a `SeqReader` can be thought of as a _lazily-evaluated_ sequence.  Only a small amount of the full sequence is in working memory at any given time.  Operations on a `SeqReader` typically return generators that create the modified sequence on an as-needed basis."
   ]
  },
  {
   "cell_type": "code",
   "execution_count": 1,
   "id": "65dbb725",
   "metadata": {},
   "outputs": [],
   "source": [
    "%load_ext autoreload\n",
    "%autoreload 2\n",
    "\n",
    "import set_dir"
   ]
  },
  {
   "cell_type": "markdown",
   "id": "c936864d",
   "metadata": {},
   "source": [
    "`SeqReader` can be imported straight from `Sequence`.  In addition, the functions `read_first` and `read_all` are used to create a `SeqReader` from a file."
   ]
  },
  {
   "cell_type": "code",
   "execution_count": 2,
   "id": "f492e8cf",
   "metadata": {},
   "outputs": [],
   "source": [
    "from Sequence import Seq, SeqReader, read_first, read_all"
   ]
  },
  {
   "cell_type": "markdown",
   "id": "01177e80",
   "metadata": {},
   "source": [
    "Here, we read the first sequence named `sample_1` from the file `data/samples.fasta`, and print it as a DNA and an RNA sequence."
   ]
  },
  {
   "cell_type": "code",
   "execution_count": 3,
   "id": "733365b5",
   "metadata": {},
   "outputs": [
    {
     "name": "stdout",
     "output_type": "stream",
     "text": [
      "SeqReader(sample_1)\n",
      "AAACCC\n",
      "AAACCC\n",
      "\n",
      "GGGTTT\n",
      "GGGUUU\n"
     ]
    }
   ],
   "source": [
    "reader = read_first(\"data/samples.fasta\", name=\"sample_1\")\n",
    "print(reader)\n",
    "\n",
    "for line in reader.as_DNA():\n",
    "    print(line)\n",
    "\n",
    "for line in reader.as_RNA():\n",
    "    print(line)\n",
    "\n",
    "print(\"\")\n",
    "\n",
    "for line in reader.as_DNA(complement=True):\n",
    "    print(line)\n",
    "\n",
    "for line in reader.as_RNA(complement=True):\n",
    "    print(line)"
   ]
  },
  {
   "cell_type": "markdown",
   "id": "7620911c",
   "metadata": {},
   "source": [
    "And here, we translate `sample_1` into amino acids, in all six reading frames."
   ]
  },
  {
   "cell_type": "code",
   "execution_count": 4,
   "id": "3b4e2c16",
   "metadata": {},
   "outputs": [
    {
     "name": "stdout",
     "output_type": "stream",
     "text": [
      "['K', 'P']\n",
      "['N']\n",
      "['T']\n",
      "['G', 'F']\n",
      "['G']\n",
      "['V']\n"
     ]
    }
   ],
   "source": [
    "print(list( reader.translate( 1) ))\n",
    "print(list( reader.translate( 2) ))\n",
    "print(list( reader.translate( 3) ))\n",
    "\n",
    "print(list( reader.translate(-1) ))\n",
    "print(list( reader.translate(-2) ))\n",
    "print(list( reader.translate(-3) ))"
   ]
  },
  {
   "cell_type": "markdown",
   "id": "cf226191",
   "metadata": {},
   "source": [
    "Here, we read all sequences with names that don't end in `\"2\"`, and print out their complements in groups of 10:"
   ]
  },
  {
   "cell_type": "code",
   "execution_count": 5,
   "id": "4c254d2b",
   "metadata": {
    "scrolled": false
   },
   "outputs": [
    {
     "name": "stdout",
     "output_type": "stream",
     "text": [
      "Reader SeqReader(sample_1) for sequence of length 0\n",
      "\n",
      "Reader SeqReader(sample_3) for sequence of length 0\n",
      "\n",
      "Reader SeqReader(sample_4) for sequence of length 80\n",
      "\n",
      "Reader SeqReader(sample_5) for sequence of length 0\n",
      "\n"
     ]
    }
   ],
   "source": [
    "readers = read_all(\n",
    "    \"data/samples.fasta\",\n",
    "    id_filter=lambda x, _: x[-1] != \"2\"\n",
    ")\n",
    "\n",
    "for reader in readers:\n",
    "    print(f\"Reader {reader} for sequence of length {len(reader)}\")\n",
    "    for line in reader.as_DNA(window_size=10, complement=True):\n",
    "        print(line)\n",
    "    print(\"\")"
   ]
  },
  {
   "cell_type": "markdown",
   "id": "5bb941a5",
   "metadata": {},
   "source": [
    "When a `SeqReader` is created, its sequence is stored in a tempfile.  The `SeqReader` can then produce as many windows into the file as desired.  Here, I zip together two generators for the same sequence, with different window lengths, to show that the generators don't interfere with each other's positions in the file.\n",
    "\n",
    "(For this demo, I use a special numeric sequence to better illustrate that both sequences are at the correct positions.)"
   ]
  },
  {
   "cell_type": "code",
   "execution_count": 6,
   "id": "e92dedf6",
   "metadata": {},
   "outputs": [
    {
     "name": "stdout",
     "output_type": "stream",
     "text": [
      "C:\\Users\\Vince\\AppData\\Local\\Temp\\tmpwvcah_3g\n",
      "01234 -> 0123456\n",
      "56789 -> 789\n"
     ]
    }
   ],
   "source": [
    "from Sequence import read_first\n",
    "\n",
    "r1 = read_first( \"data/sample_numeric.fasta\" )\n",
    "\n",
    "print(r1.filename)\n",
    "\n",
    "for line1, line2 in zip(r1.as_DNA(window_size=5), r1.as_DNA(window_size=7)):\n",
    "    print(f\"{line1} -> {line2}\")"
   ]
  },
  {
   "cell_type": "markdown",
   "id": "ed242c02",
   "metadata": {},
   "source": [
    "This means computations can be run on the sequence in parallel.  For example, the `find_orfs` function scans through each of the six reading frames in separate threads, and combines all the results at the end."
   ]
  },
  {
   "cell_type": "code",
   "execution_count": 7,
   "id": "d04d2d9b",
   "metadata": {},
   "outputs": [
    {
     "name": "stdout",
     "output_type": "stream",
     "text": [
      "  - Read frame  1 in 0.005005598068237305 seconds.\n",
      "  - Read frame -3 in 0.009793519973754883 seconds.\n",
      "  - Read frame -2 in 0.012395858764648438 seconds.\n",
      "  - Read frame  2 in 0.005517482757568359 seconds.\n",
      "  - Read frame -1 in 0.010523319244384766 seconds.\n",
      "  - Read frame  3 in 0.0030670166015625 seconds.\n",
      "\n",
      "Total computing time: ~0.04630279541015625 seconds.\n",
      "Actual elapsed time:   0.2812812328338623 seconds.\n",
      "\n"
     ]
    }
   ],
   "source": [
    "r1 = read_first( \"data/samples.fasta\", name=\"sample_2\" )\n",
    "\n",
    "r1.find_orfs(verbose=True)\n",
    "print(\"\")"
   ]
  },
  {
   "cell_type": "markdown",
   "id": "15d2b050",
   "metadata": {},
   "source": [
    "A `SeqReader` can be converted to a plain `Seq` object by passing it to the `Seq()` constructor.  Be careful about doing this with long sequences -- sequences from a file are lazily evaluated for a reason."
   ]
  },
  {
   "cell_type": "code",
   "execution_count": 8,
   "id": "cd8da3ca",
   "metadata": {},
   "outputs": [
    {
     "name": "stdout",
     "output_type": "stream",
     "text": [
      "ACGTACGTACGTACGTACGTACGT\n",
      "AAAACCCCGGGGTTTT----RRRR\n",
      "\n",
      "A----C----G----T----A-G-\n",
      "A----C----G----TACGT----\n",
      "AMRWMCSYRSGKWYKTACGTRVRD\n",
      "\n"
     ]
    }
   ],
   "source": [
    "r1 = read_first( \"data/samples.fasta\", name=\"sample_3\" )\n",
    "r2 = read_first( \"data/samples.fasta\", name=\"sample_5\" )\n",
    "\n",
    "# Convert to Sequence objects\n",
    "s1 = Seq(r1)\n",
    "s2 = Seq(r2)\n",
    "\n",
    "print(s1)\n",
    "print(s2)\n",
    "print(\"\")\n",
    "\n",
    "print(s1 & s2)\n",
    "print(s1 ^ s2)\n",
    "print(s1 | s2)\n",
    "print(\"\")"
   ]
  },
  {
   "cell_type": "markdown",
   "id": "73112d30",
   "metadata": {},
   "source": [
    "A work in progress: `SeqReader` sequences can be combined with (some of) the same operations that work on plain `Seq`s.  These produce a new `SeqCombiner` object, which lazily evaluates the combination of the two sequences as needed.\n",
    "\n",
    "A `Seq` and a `SeqReader` can be combined as well, in either order, as shown in the second and third example below."
   ]
  },
  {
   "cell_type": "code",
   "execution_count": 9,
   "id": "da633f8c",
   "metadata": {},
   "outputs": [
    {
     "name": "stdout",
     "output_type": "stream",
     "text": [
      "<Sequence._reader.SeqCombiner object at 0x00000266DF6E8A60>\n",
      "<class 'Sequence._reader.SeqCombiner'>\n",
      "\n",
      "A----C----G----T----A-G-\n",
      "A----C----G----TACGT----\n",
      "AMRWMCSYRSGKWYKTACGTRVRD\n"
     ]
    }
   ],
   "source": [
    "combined = r1 & r2\n",
    "print(combined)\n",
    "print(type(combined))\n",
    "print(\"\")\n",
    "\n",
    "for line in combined:\n",
    "    print(line)\n",
    "\n",
    "for line in (r1 ^ s2):\n",
    "    print(line)\n",
    "\n",
    "for line in (s1 | r2):\n",
    "    print(line)"
   ]
  },
  {
   "cell_type": "markdown",
   "id": "75a74b59",
   "metadata": {},
   "source": [
    "## Efficiency: Finding ORFs in Chromosome 21\n",
    "\n",
    "A large part of my motivation for this project was to find ORFs in Human Chromosome 21 in the reverse direction as quickly as in the forward direction.  I show my results below."
   ]
  },
  {
   "cell_type": "code",
   "execution_count": null,
   "id": "b16b277d",
   "metadata": {},
   "outputs": [],
   "source": [
    "reader = read_first( \"data/chr21.fasta\" )\n",
    "\n",
    "orfs = reader.find_orfs(verbose=True)\n",
    "print(f\"{len(orfs)} ORFs found.\")"
   ]
  },
  {
   "cell_type": "markdown",
   "id": "a4ad83d2",
   "metadata": {},
   "source": [
    "I re-ran my old method sequentially, just to ensure I had accurate times.\n",
    "\n",
    "Below is a comparison:\n",
    "\n",
    "| Frame | Old Method | New Method |\n",
    "| :-: | :-: | :-: |\n",
    "|  1 | 5.759676694869995 | 63.35096454620361 |\n",
    "|  2 | 5.744913816452026 | 62.14136457443237 |\n",
    "|  3 | 5.478733062744141 | 62.42976236343384 |\n",
    "| -1 | 61.48100733757019 | 149.64347290992737 |\n",
    "| -2 | 59.72647547721863 | 150.68320631980896 |\n",
    "| -3 | 60.6691198348999  | 152.72155261039734 |\n",
    "\n",
    "I have mixed feelings about these results.  On the one hand, the time to read in the reverse direction is only 2~3x as much as in the forward direction, which means I achieved my goal of equalizing the two.\n",
    "\n",
    "However, my new method is much slower than the previous.  I suspect I've added too much overhead in creating these classes.  For example, half this time is taken up by converting to amino acids alone:"
   ]
  },
  {
   "cell_type": "code",
   "execution_count": 27,
   "id": "2b053015",
   "metadata": {},
   "outputs": [
    {
     "name": "stdout",
     "output_type": "stream",
     "text": [
      "done: 35.55509352684021\n"
     ]
    }
   ],
   "source": [
    "from time import time\n",
    "\n",
    "s = time()\n",
    "for i, x in enumerate(reader.translate(1)):\n",
    "    pass\n",
    "t = time()\n",
    "print(f\"done: {t-s}\")"
   ]
  },
  {
   "cell_type": "markdown",
   "id": "ea3120e7",
   "metadata": {},
   "source": [
    "In the old method, translating the `1` reading frame for Chromosome 21 took ~3 seconds.\n",
    "\n",
    "Further optimization could hopefully bring these numbers down.  It seems like the file reading is no longer the bottleneck; now other parts of the program are.\n",
    "\n",
    "Below, I run the `1` and `-1` frame in isolation, just to confirm the times:"
   ]
  },
  {
   "cell_type": "code",
   "execution_count": 18,
   "id": "f67c6ce0",
   "metadata": {},
   "outputs": [
    {
     "name": "stdout",
     "output_type": "stream",
     "text": [
      "Num orfs: 19609\n",
      "Time: 46.730241537094116\n"
     ]
    }
   ],
   "source": [
    "reader = read_first( \"data/chr21.fasta\" )\n",
    "\n",
    "_, orfs, t = reader.find_orfs(frame=1, verbose=True, verbose_output=True)\n",
    "print(f\"Num orfs: {len(orfs)}\")\n",
    "print(f\"Time: {t}\")"
   ]
  },
  {
   "cell_type": "code",
   "execution_count": 19,
   "id": "6b31ddbc",
   "metadata": {},
   "outputs": [
    {
     "name": "stdout",
     "output_type": "stream",
     "text": [
      "Num orfs: 20428\n",
      "Time: 113.19659638404846\n"
     ]
    }
   ],
   "source": [
    "reader = read_first( \"data/chr21.fasta\" )\n",
    "\n",
    "_, orfs, t = reader.find_orfs(frame=-1, verbose=True, verbose_output=True)\n",
    "print(f\"Num orfs: {len(orfs)}\")\n",
    "print(f\"Time: {t}\")"
   ]
  }
 ],
 "metadata": {
  "kernelspec": {
   "display_name": "Python 3 (ipykernel)",
   "language": "python",
   "name": "python3"
  },
  "language_info": {
   "codemirror_mode": {
    "name": "ipython",
    "version": 3
   },
   "file_extension": ".py",
   "mimetype": "text/x-python",
   "name": "python",
   "nbconvert_exporter": "python",
   "pygments_lexer": "ipython3",
   "version": "3.10.4"
  }
 },
 "nbformat": 4,
 "nbformat_minor": 5
}
